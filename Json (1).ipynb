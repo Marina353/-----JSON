{
  "nbformat": 4,
  "nbformat_minor": 0,
  "metadata": {
    "colab": {
      "provenance": []
    },
    "kernelspec": {
      "name": "python3",
      "display_name": "Python 3"
    },
    "language_info": {
      "name": "python"
    }
  },
  "cells": [
    {
      "cell_type": "code",
      "source": [
        "!pip install pyTelegramBotAPI"
      ],
      "metadata": {
        "colab": {
          "base_uri": "https://localhost:8080/"
        },
        "id": "trC31xA7cn87",
        "outputId": "65a4b70a-d74f-4265-aabd-99071fc6b883"
      },
      "execution_count": 1,
      "outputs": [
        {
          "output_type": "stream",
          "name": "stdout",
          "text": [
            "Collecting pyTelegramBotAPI\n",
            "  Downloading pytelegrambotapi-4.29.1-py3-none-any.whl.metadata (48 kB)\n",
            "\u001b[?25l     \u001b[90m━━━━━━━━━━━━━━━━━━━━━━━━━━━━━━━━━━━━━━━━\u001b[0m \u001b[32m0.0/48.3 kB\u001b[0m \u001b[31m?\u001b[0m eta \u001b[36m-:--:--\u001b[0m\r\u001b[2K     \u001b[90m━━━━━━━━━━━━━━━━━━━━━━━━━━━━━━━━━━━━━━━━\u001b[0m \u001b[32m48.3/48.3 kB\u001b[0m \u001b[31m3.7 MB/s\u001b[0m eta \u001b[36m0:00:00\u001b[0m\n",
            "\u001b[?25hRequirement already satisfied: requests in /usr/local/lib/python3.12/dist-packages (from pyTelegramBotAPI) (2.32.4)\n",
            "Requirement already satisfied: charset_normalizer<4,>=2 in /usr/local/lib/python3.12/dist-packages (from requests->pyTelegramBotAPI) (3.4.3)\n",
            "Requirement already satisfied: idna<4,>=2.5 in /usr/local/lib/python3.12/dist-packages (from requests->pyTelegramBotAPI) (3.10)\n",
            "Requirement already satisfied: urllib3<3,>=1.21.1 in /usr/local/lib/python3.12/dist-packages (from requests->pyTelegramBotAPI) (2.5.0)\n",
            "Requirement already satisfied: certifi>=2017.4.17 in /usr/local/lib/python3.12/dist-packages (from requests->pyTelegramBotAPI) (2025.8.3)\n",
            "Downloading pytelegrambotapi-4.29.1-py3-none-any.whl (294 kB)\n",
            "\u001b[?25l   \u001b[90m━━━━━━━━━━━━━━━━━━━━━━━━━━━━━━━━━━━━━━━━\u001b[0m \u001b[32m0.0/294.8 kB\u001b[0m \u001b[31m?\u001b[0m eta \u001b[36m-:--:--\u001b[0m\r\u001b[2K   \u001b[90m━━━━━━━━━━━━━━━━━━━━━━━━━━━━━━━━━━━━━━━━\u001b[0m \u001b[32m294.8/294.8 kB\u001b[0m \u001b[31m11.4 MB/s\u001b[0m eta \u001b[36m0:00:00\u001b[0m\n",
            "\u001b[?25hInstalling collected packages: pyTelegramBotAPI\n",
            "Successfully installed pyTelegramBotAPI-4.29.1\n"
          ]
        }
      ]
    },
    {
      "cell_type": "code",
      "source": [
        "!pip install Faker"
      ],
      "metadata": {
        "colab": {
          "base_uri": "https://localhost:8080/"
        },
        "id": "o75IuW2ddKdc",
        "outputId": "5c41e486-e0a3-452f-bc3e-3010237857eb"
      },
      "execution_count": 2,
      "outputs": [
        {
          "output_type": "stream",
          "name": "stdout",
          "text": [
            "Collecting Faker\n",
            "  Downloading faker-37.8.0-py3-none-any.whl.metadata (15 kB)\n",
            "Requirement already satisfied: tzdata in /usr/local/lib/python3.12/dist-packages (from Faker) (2025.2)\n",
            "Downloading faker-37.8.0-py3-none-any.whl (2.0 MB)\n",
            "\u001b[2K   \u001b[90m━━━━━━━━━━━━━━━━━━━━━━━━━━━━━━━━━━━━━━━━\u001b[0m \u001b[32m2.0/2.0 MB\u001b[0m \u001b[31m29.7 MB/s\u001b[0m eta \u001b[36m0:00:00\u001b[0m\n",
            "\u001b[?25hInstalling collected packages: Faker\n",
            "Successfully installed Faker-37.8.0\n"
          ]
        }
      ]
    },
    {
      "cell_type": "code",
      "source": [
        "# Для подключение библиотеки telebot нужно в google colab добавить: !pip install pyTelegramBotAPI\n",
        "from telebot import TeleBot, types\n",
        "import json\n",
        "\n",
        "bot = TeleBot(token='8336249161:AAH5sGk-UMdcgOoXoGlQHRNV00VMAZB2ok0', parse_mode='html') # создание бота\n",
        "\n",
        "\n",
        "# обработчик команды '/start'\n",
        "@bot.message_handler(commands=['start'])\n",
        "def start_command_handler(message: types.Message):\n",
        "    # отправляем ответ на команду '/start'\n",
        "    bot.send_message(\n",
        "        chat_id=message.chat.id, # id чата, в который необходимо направить сообщение\n",
        "        text='Привет! Я умею проверять JSON и форматировать его в красивый текст\\nВведи JSON в виде строки:', # текст сообщения\n",
        "    )\n",
        "\n",
        "# обработчик всех остальных сообщений\n",
        "@bot.message_handler()\n",
        "def message_handler(message: types.Message):\n",
        "    try:\n",
        "        # пытаемся распарсить JSON из текста сообщения\n",
        "        payload = json.loads(message.text)\n",
        "    except json.JSONDecodeError as ex:\n",
        "        # при ошибке взникнет исключение 'json.JSONDecodeError'\n",
        "        # преобразовываем исключение в строку и выводим пользователю\n",
        "        bot.send_message(\n",
        "            chat_id=message.chat.id,\n",
        "            text=f'При обработке произошла ошибка:\\n<code>{str(ex)}</code>'\n",
        "        )\n",
        "        # выходим из функции\n",
        "        return\n",
        "\n",
        "    # если исключения не возникло - значит был введен корректный JSON\n",
        "    # форматируем его в красивый текст :) (отступ 2 пробела на уровень, сортировать ключи по алфавиту)\n",
        "    text = json.dumps(payload, indent=2, sort_keys=True, ensure_ascii=False)\n",
        "    # и выводим пользователю\n",
        "    bot.send_message(\n",
        "        chat_id=message.chat.id,\n",
        "        text=f'JSON:\\n<code>{text}</code>'\n",
        "    )\n",
        "\n",
        "\n",
        "# главная функция программы\n",
        "def main():\n",
        "    # запускаем нашего бота\n",
        "    bot.infinity_polling()\n",
        "\n",
        "\n",
        "if __name__ == '__main__':\n",
        "    main()\n"
      ],
      "metadata": {
        "id": "y2xK6qhKeUQ1"
      },
      "execution_count": null,
      "outputs": []
    }
  ]
}